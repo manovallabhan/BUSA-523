{
 "cells": [
  {
   "cell_type": "code",
   "execution_count": 1,
   "id": "235773e2",
   "metadata": {},
   "outputs": [
    {
     "data": {
      "text/html": [
       "<div>\n",
       "<style scoped>\n",
       "    .dataframe tbody tr th:only-of-type {\n",
       "        vertical-align: middle;\n",
       "    }\n",
       "\n",
       "    .dataframe tbody tr th {\n",
       "        vertical-align: top;\n",
       "    }\n",
       "\n",
       "    .dataframe thead th {\n",
       "        text-align: right;\n",
       "    }\n",
       "</style>\n",
       "<table border=\"1\" class=\"dataframe\">\n",
       "  <thead>\n",
       "    <tr style=\"text-align: right;\">\n",
       "      <th></th>\n",
       "      <th>Age</th>\n",
       "      <th>Year</th>\n",
       "      <th>Auxillary nodes</th>\n",
       "      <th>Survival</th>\n",
       "    </tr>\n",
       "  </thead>\n",
       "  <tbody>\n",
       "    <tr>\n",
       "      <th>0</th>\n",
       "      <td>30</td>\n",
       "      <td>62</td>\n",
       "      <td>3</td>\n",
       "      <td>1</td>\n",
       "    </tr>\n",
       "    <tr>\n",
       "      <th>1</th>\n",
       "      <td>30</td>\n",
       "      <td>65</td>\n",
       "      <td>0</td>\n",
       "      <td>1</td>\n",
       "    </tr>\n",
       "    <tr>\n",
       "      <th>2</th>\n",
       "      <td>31</td>\n",
       "      <td>59</td>\n",
       "      <td>2</td>\n",
       "      <td>1</td>\n",
       "    </tr>\n",
       "    <tr>\n",
       "      <th>3</th>\n",
       "      <td>31</td>\n",
       "      <td>65</td>\n",
       "      <td>4</td>\n",
       "      <td>1</td>\n",
       "    </tr>\n",
       "    <tr>\n",
       "      <th>4</th>\n",
       "      <td>33</td>\n",
       "      <td>58</td>\n",
       "      <td>10</td>\n",
       "      <td>1</td>\n",
       "    </tr>\n",
       "    <tr>\n",
       "      <th>...</th>\n",
       "      <td>...</td>\n",
       "      <td>...</td>\n",
       "      <td>...</td>\n",
       "      <td>...</td>\n",
       "    </tr>\n",
       "    <tr>\n",
       "      <th>300</th>\n",
       "      <td>75</td>\n",
       "      <td>62</td>\n",
       "      <td>1</td>\n",
       "      <td>1</td>\n",
       "    </tr>\n",
       "    <tr>\n",
       "      <th>301</th>\n",
       "      <td>76</td>\n",
       "      <td>67</td>\n",
       "      <td>0</td>\n",
       "      <td>1</td>\n",
       "    </tr>\n",
       "    <tr>\n",
       "      <th>302</th>\n",
       "      <td>77</td>\n",
       "      <td>65</td>\n",
       "      <td>3</td>\n",
       "      <td>1</td>\n",
       "    </tr>\n",
       "    <tr>\n",
       "      <th>303</th>\n",
       "      <td>78</td>\n",
       "      <td>65</td>\n",
       "      <td>1</td>\n",
       "      <td>2</td>\n",
       "    </tr>\n",
       "    <tr>\n",
       "      <th>304</th>\n",
       "      <td>83</td>\n",
       "      <td>58</td>\n",
       "      <td>2</td>\n",
       "      <td>2</td>\n",
       "    </tr>\n",
       "  </tbody>\n",
       "</table>\n",
       "<p>305 rows × 4 columns</p>\n",
       "</div>"
      ],
      "text/plain": [
       "     Age  Year  Auxillary nodes  Survival \n",
       "0     30    62                3          1\n",
       "1     30    65                0          1\n",
       "2     31    59                2          1\n",
       "3     31    65                4          1\n",
       "4     33    58               10          1\n",
       "..   ...   ...              ...        ...\n",
       "300   75    62                1          1\n",
       "301   76    67                0          1\n",
       "302   77    65                3          1\n",
       "303   78    65                1          2\n",
       "304   83    58                2          2\n",
       "\n",
       "[305 rows x 4 columns]"
      ]
     },
     "execution_count": 1,
     "metadata": {},
     "output_type": "execute_result"
    }
   ],
   "source": [
    "import pandas as pd\n",
    "data = pd.read_csv(\"D:\\TAMUC\\Sem 2\\Business Analytics Programming\\Project\\cancer.csv\")\n",
    "\n",
    "data"
   ]
  },
  {
   "cell_type": "markdown",
   "id": "d6c5f366",
   "metadata": {},
   "source": [
    "# Question 1.a"
   ]
  },
  {
   "cell_type": "code",
   "execution_count": 4,
   "id": "96b73d40",
   "metadata": {},
   "outputs": [
    {
     "data": {
      "text/html": [
       "<div>\n",
       "<style scoped>\n",
       "    .dataframe tbody tr th:only-of-type {\n",
       "        vertical-align: middle;\n",
       "    }\n",
       "\n",
       "    .dataframe tbody tr th {\n",
       "        vertical-align: top;\n",
       "    }\n",
       "\n",
       "    .dataframe thead th {\n",
       "        text-align: right;\n",
       "    }\n",
       "</style>\n",
       "<table border=\"1\" class=\"dataframe\">\n",
       "  <thead>\n",
       "    <tr style=\"text-align: right;\">\n",
       "      <th></th>\n",
       "      <th>Age</th>\n",
       "      <th>Year</th>\n",
       "      <th>Auxillary nodes</th>\n",
       "      <th>Survival</th>\n",
       "    </tr>\n",
       "  </thead>\n",
       "  <tbody>\n",
       "    <tr>\n",
       "      <th>count</th>\n",
       "      <td>305.000000</td>\n",
       "      <td>305.000000</td>\n",
       "      <td>305.000000</td>\n",
       "      <td>305.000000</td>\n",
       "    </tr>\n",
       "    <tr>\n",
       "      <th>mean</th>\n",
       "      <td>52.531148</td>\n",
       "      <td>62.849180</td>\n",
       "      <td>4.036066</td>\n",
       "      <td>1.265574</td>\n",
       "    </tr>\n",
       "    <tr>\n",
       "      <th>std</th>\n",
       "      <td>10.744024</td>\n",
       "      <td>3.254078</td>\n",
       "      <td>7.199370</td>\n",
       "      <td>0.442364</td>\n",
       "    </tr>\n",
       "    <tr>\n",
       "      <th>min</th>\n",
       "      <td>30.000000</td>\n",
       "      <td>58.000000</td>\n",
       "      <td>0.000000</td>\n",
       "      <td>1.000000</td>\n",
       "    </tr>\n",
       "    <tr>\n",
       "      <th>25%</th>\n",
       "      <td>44.000000</td>\n",
       "      <td>60.000000</td>\n",
       "      <td>0.000000</td>\n",
       "      <td>1.000000</td>\n",
       "    </tr>\n",
       "    <tr>\n",
       "      <th>50%</th>\n",
       "      <td>52.000000</td>\n",
       "      <td>63.000000</td>\n",
       "      <td>1.000000</td>\n",
       "      <td>1.000000</td>\n",
       "    </tr>\n",
       "    <tr>\n",
       "      <th>75%</th>\n",
       "      <td>61.000000</td>\n",
       "      <td>66.000000</td>\n",
       "      <td>4.000000</td>\n",
       "      <td>2.000000</td>\n",
       "    </tr>\n",
       "    <tr>\n",
       "      <th>max</th>\n",
       "      <td>83.000000</td>\n",
       "      <td>69.000000</td>\n",
       "      <td>52.000000</td>\n",
       "      <td>2.000000</td>\n",
       "    </tr>\n",
       "  </tbody>\n",
       "</table>\n",
       "</div>"
      ],
      "text/plain": [
       "              Age        Year  Auxillary nodes   Survival \n",
       "count  305.000000  305.000000       305.000000  305.000000\n",
       "mean    52.531148   62.849180         4.036066    1.265574\n",
       "std     10.744024    3.254078         7.199370    0.442364\n",
       "min     30.000000   58.000000         0.000000    1.000000\n",
       "25%     44.000000   60.000000         0.000000    1.000000\n",
       "50%     52.000000   63.000000         1.000000    1.000000\n",
       "75%     61.000000   66.000000         4.000000    2.000000\n",
       "max     83.000000   69.000000        52.000000    2.000000"
      ]
     },
     "execution_count": 4,
     "metadata": {},
     "output_type": "execute_result"
    }
   ],
   "source": [
    "data.describe()"
   ]
  },
  {
   "cell_type": "code",
   "execution_count": null,
   "id": "d3dd2da1",
   "metadata": {},
   "outputs": [],
   "source": [
    "The year, Auxillary nodes and Survival are very close to the mean whereas the age is a bit far away from the mean"
   ]
  },
  {
   "cell_type": "markdown",
   "id": "214356c2",
   "metadata": {},
   "source": [
    "# Question 1.b"
   ]
  },
  {
   "cell_type": "code",
   "execution_count": 8,
   "id": "55ecc84f",
   "metadata": {},
   "outputs": [
    {
     "data": {
      "text/html": [
       "<div>\n",
       "<style scoped>\n",
       "    .dataframe tbody tr th:only-of-type {\n",
       "        vertical-align: middle;\n",
       "    }\n",
       "\n",
       "    .dataframe tbody tr th {\n",
       "        vertical-align: top;\n",
       "    }\n",
       "\n",
       "    .dataframe thead th {\n",
       "        text-align: right;\n",
       "    }\n",
       "</style>\n",
       "<table border=\"1\" class=\"dataframe\">\n",
       "  <thead>\n",
       "    <tr style=\"text-align: right;\">\n",
       "      <th></th>\n",
       "      <th>Age</th>\n",
       "      <th>Year</th>\n",
       "      <th>Auxillary nodes</th>\n",
       "      <th>Survival</th>\n",
       "    </tr>\n",
       "  </thead>\n",
       "  <tbody>\n",
       "    <tr>\n",
       "      <th>Age</th>\n",
       "      <td>1.000000</td>\n",
       "      <td>0.092623</td>\n",
       "      <td>-0.066548</td>\n",
       "      <td>0.064351</td>\n",
       "    </tr>\n",
       "    <tr>\n",
       "      <th>Year</th>\n",
       "      <td>0.092623</td>\n",
       "      <td>1.000000</td>\n",
       "      <td>-0.003277</td>\n",
       "      <td>-0.004076</td>\n",
       "    </tr>\n",
       "    <tr>\n",
       "      <th>Auxillary nodes</th>\n",
       "      <td>-0.066548</td>\n",
       "      <td>-0.003277</td>\n",
       "      <td>1.000000</td>\n",
       "      <td>0.286191</td>\n",
       "    </tr>\n",
       "    <tr>\n",
       "      <th>Survival</th>\n",
       "      <td>0.064351</td>\n",
       "      <td>-0.004076</td>\n",
       "      <td>0.286191</td>\n",
       "      <td>1.000000</td>\n",
       "    </tr>\n",
       "  </tbody>\n",
       "</table>\n",
       "</div>"
      ],
      "text/plain": [
       "                      Age      Year  Auxillary nodes  Survival \n",
       "Age              1.000000  0.092623        -0.066548   0.064351\n",
       "Year             0.092623  1.000000        -0.003277  -0.004076\n",
       "Auxillary nodes -0.066548 -0.003277         1.000000   0.286191\n",
       "Survival         0.064351 -0.004076         0.286191   1.000000"
      ]
     },
     "execution_count": 8,
     "metadata": {},
     "output_type": "execute_result"
    }
   ],
   "source": [
    "corr = data.corr()\n",
    "\n",
    "corr"
   ]
  },
  {
   "cell_type": "code",
   "execution_count": 11,
   "id": "fba8d281",
   "metadata": {},
   "outputs": [
    {
     "data": {
      "image/png": "[encoded data removed]",
      "text/plain": [
       "<Figure size 432x288 with 2 Axes>"
      ]
     },
     "metadata": {
      "needs_background": "light"
     },
     "output_type": "display_data"
    }
   ],
   "source": [
    "%matplotlib inline\n",
    "\n",
    "import seaborn as sns\n",
    "import matplotlib.pyplot as plt\n",
    "\n",
    "sns.heatmap(corr)\n",
    "\n",
    "plt.show()"
   ]
  },
  {
   "cell_type": "markdown",
   "id": "27eb3fbb",
   "metadata": {},
   "source": [
    "There is a positive correlation between Year, Survival and age and negative correlation between Auxillary nodes and Age\n",
    "There is a negative correlation between Year and Auxillary nodes, Survival\n",
    "There is a negative correlation between Auxillary nodes and Age, Year and positive correlation between Auxillary nodes and Survival\n",
    "There is a positive correlation between Survival and Age, Auxillary nodes and negative correlation between Survival and year"
   ]
  },
  {
   "cell_type": "markdown",
   "id": "475cec9f",
   "metadata": {},
   "source": [
    "# Question 1.c"
   ]
  },
  {
   "cell_type": "code",
   "execution_count": 12,
   "id": "9f788069",
   "metadata": {},
   "outputs": [
    {
     "data": {
      "text/plain": [
       "array([[<AxesSubplot:title={'center':'Age'}>,\n",
       "        <AxesSubplot:title={'center':'Year'}>],\n",
       "       [<AxesSubplot:title={'center':'Auxillary nodes'}>,\n",
       "        <AxesSubplot:title={'center':'Survival '}>]], dtype=object)"
      ]
     },
     "execution_count": 12,
     "metadata": {},
     "output_type": "execute_result"
    },
    {
     "data": {
      "image/png": "[encoded data removed]",
      "text/plain": [
       "<Figure size 432x288 with 4 Axes>"
      ]
     },
     "metadata": {
      "needs_background": "light"
     },
     "output_type": "display_data"
    }
   ],
   "source": [
    "data.hist()"
   ]
  },
  {
   "cell_type": "markdown",
   "id": "41d2c222",
   "metadata": {},
   "source": [
    "Auxillary nodes are completely skewed towards left side and Age is slightly skewed towards left side"
   ]
  },
  {
   "cell_type": "markdown",
   "id": "496bd66f",
   "metadata": {},
   "source": [
    "# Question 2.a"
   ]
  },
  {
   "cell_type": "code",
   "execution_count": 14,
   "id": "05909f78",
   "metadata": {},
   "outputs": [],
   "source": [
    "# Import libraries\n",
    "\n",
    "import pandas as pd\n",
    "import matplotlib.pyplot as plt\n",
    "\n",
    "# Scikit learn - machine learning algorithms and methods\n",
    "\n",
    "from sklearn.model_selection import train_test_split, KFold, GridSearchCV\n",
    "from sklearn.preprocessing import StandardScaler\n",
    "from sklearn.preprocessing import MinMaxScaler\n",
    "from sklearn.metrics import roc_auc_score, plot_roc_curve\n",
    "from sklearn.linear_model import LogisticRegression\n",
    "from sklearn.ensemble import RandomForestClassifier\n",
    "from sklearn.svm import SVC\n",
    "from sklearn.neural_network import MLPClassifier\n",
    "from sklearn.metrics import classification_report,confusion_matrix, ConfusionMatrixDisplay"
   ]
  },
  {
   "cell_type": "code",
   "execution_count": 24,
   "id": "be83a155",
   "metadata": {},
   "outputs": [
    {
     "data": {
      "text/html": [
       "<div>\n",
       "<style scoped>\n",
       "    .dataframe tbody tr th:only-of-type {\n",
       "        vertical-align: middle;\n",
       "    }\n",
       "\n",
       "    .dataframe tbody tr th {\n",
       "        vertical-align: top;\n",
       "    }\n",
       "\n",
       "    .dataframe thead th {\n",
       "        text-align: right;\n",
       "    }\n",
       "</style>\n",
       "<table border=\"1\" class=\"dataframe\">\n",
       "  <thead>\n",
       "    <tr style=\"text-align: right;\">\n",
       "      <th></th>\n",
       "      <th>Age</th>\n",
       "      <th>Year</th>\n",
       "      <th>Auxillary nodes</th>\n",
       "      <th>Survival</th>\n",
       "    </tr>\n",
       "  </thead>\n",
       "  <tbody>\n",
       "    <tr>\n",
       "      <th>0</th>\n",
       "      <td>30</td>\n",
       "      <td>62</td>\n",
       "      <td>3</td>\n",
       "      <td>1</td>\n",
       "    </tr>\n",
       "    <tr>\n",
       "      <th>1</th>\n",
       "      <td>30</td>\n",
       "      <td>65</td>\n",
       "      <td>0</td>\n",
       "      <td>1</td>\n",
       "    </tr>\n",
       "    <tr>\n",
       "      <th>2</th>\n",
       "      <td>31</td>\n",
       "      <td>59</td>\n",
       "      <td>2</td>\n",
       "      <td>1</td>\n",
       "    </tr>\n",
       "    <tr>\n",
       "      <th>3</th>\n",
       "      <td>31</td>\n",
       "      <td>65</td>\n",
       "      <td>4</td>\n",
       "      <td>1</td>\n",
       "    </tr>\n",
       "    <tr>\n",
       "      <th>4</th>\n",
       "      <td>33</td>\n",
       "      <td>58</td>\n",
       "      <td>10</td>\n",
       "      <td>1</td>\n",
       "    </tr>\n",
       "    <tr>\n",
       "      <th>...</th>\n",
       "      <td>...</td>\n",
       "      <td>...</td>\n",
       "      <td>...</td>\n",
       "      <td>...</td>\n",
       "    </tr>\n",
       "    <tr>\n",
       "      <th>300</th>\n",
       "      <td>75</td>\n",
       "      <td>62</td>\n",
       "      <td>1</td>\n",
       "      <td>1</td>\n",
       "    </tr>\n",
       "    <tr>\n",
       "      <th>301</th>\n",
       "      <td>76</td>\n",
       "      <td>67</td>\n",
       "      <td>0</td>\n",
       "      <td>1</td>\n",
       "    </tr>\n",
       "    <tr>\n",
       "      <th>302</th>\n",
       "      <td>77</td>\n",
       "      <td>65</td>\n",
       "      <td>3</td>\n",
       "      <td>1</td>\n",
       "    </tr>\n",
       "    <tr>\n",
       "      <th>303</th>\n",
       "      <td>78</td>\n",
       "      <td>65</td>\n",
       "      <td>1</td>\n",
       "      <td>2</td>\n",
       "    </tr>\n",
       "    <tr>\n",
       "      <th>304</th>\n",
       "      <td>83</td>\n",
       "      <td>58</td>\n",
       "      <td>2</td>\n",
       "      <td>2</td>\n",
       "    </tr>\n",
       "  </tbody>\n",
       "</table>\n",
       "<p>305 rows × 4 columns</p>\n",
       "</div>"
      ],
      "text/plain": [
       "     Age  Year  Auxillary nodes  Survival \n",
       "0     30    62                3          1\n",
       "1     30    65                0          1\n",
       "2     31    59                2          1\n",
       "3     31    65                4          1\n",
       "4     33    58               10          1\n",
       "..   ...   ...              ...        ...\n",
       "300   75    62                1          1\n",
       "301   76    67                0          1\n",
       "302   77    65                3          1\n",
       "303   78    65                1          2\n",
       "304   83    58                2          2\n",
       "\n",
       "[305 rows x 4 columns]"
      ]
     },
     "execution_count": 24,
     "metadata": {},
     "output_type": "execute_result"
    }
   ],
   "source": [
    "data = pd.read_csv(\"D:\\TAMUC\\Sem 2\\Business Analytics Programming\\Project\\cancer.csv\")\n",
    "# Create features/inputs\n",
    "X = data.drop(columns = [\"Survival \"])\n",
    "\n",
    "# Create the output/class\n",
    "y = data[\"Survival \"]\n",
    "\n",
    "# Splitting into training and testing datasets\n",
    "X_train, X_test, y_train, y_test = train_test_split(X, y, random_state = 10, train_size = 0.7)\n",
    "\n",
    "data"
   ]
  },
  {
   "cell_type": "code",
   "execution_count": 26,
   "id": "d5d9120b",
   "metadata": {},
   "outputs": [
    {
     "name": "stdout",
     "output_type": "stream",
     "text": [
      "              precision    recall  f1-score   support\n",
      "\n",
      "           1       0.80      0.97      0.88        72\n",
      "           2       0.60      0.15      0.24        20\n",
      "\n",
      "    accuracy                           0.79        92\n",
      "   macro avg       0.70      0.56      0.56        92\n",
      "weighted avg       0.76      0.79      0.74        92\n",
      "\n"
     ]
    },
    {
     "data": {
      "image/png": "[encoded data removed]",
      "text/plain": [
       "<Figure size 432x288 with 2 Axes>"
      ]
     },
     "metadata": {
      "needs_background": "light"
     },
     "output_type": "display_data"
    },
    {
     "data": {
      "image/png": "[encoded data removed]",
      "text/plain": [
       "<Figure size 432x288 with 1 Axes>"
      ]
     },
     "metadata": {
      "needs_background": "light"
     },
     "output_type": "display_data"
    }
   ],
   "source": [
    "\n",
    "clf = LogisticRegression(solver = \"lbfgs\", penalty = \"l2\", C = 0.01, random_state = 10).fit(X_train, y_train)\n",
    "clf.score(X_test, y_test)\n",
    "y_pred = clf.predict(X_test)\n",
    "labels = [\"Patients survived 5 or more years\", \"Patients died within 5 years\"]\n",
    "cm = confusion_matrix(y_test, y_pred, labels = clf.classes_)\n",
    "disp = ConfusionMatrixDisplay(confusion_matrix = cm, display_labels = labels)\n",
    "disp.plot()\n",
    "print(classification_report(y_test, y_pred, labels = clf.classes_))\n",
    "plot_roc_curve(clf, X_test, y_test) \n",
    "plt.show()"
   ]
  },
  {
   "cell_type": "markdown",
   "id": "35a07457",
   "metadata": {},
   "source": [
    "# Question 2.b"
   ]
  },
  {
   "cell_type": "code",
   "execution_count": 29,
   "id": "e697a372",
   "metadata": {},
   "outputs": [
    {
     "name": "stdout",
     "output_type": "stream",
     "text": [
      "              precision    recall  f1-score   support\n",
      "\n",
      "           1       0.82      0.93      0.87        72\n",
      "           2       0.50      0.25      0.33        20\n",
      "\n",
      "    accuracy                           0.78        92\n",
      "   macro avg       0.66      0.59      0.60        92\n",
      "weighted avg       0.75      0.78      0.75        92\n",
      "\n"
     ]
    },
    {
     "data": {
      "image/png": "[encoded data removed]",
      "text/plain": [
       "<Figure size 432x288 with 2 Axes>"
      ]
     },
     "metadata": {
      "needs_background": "light"
     },
     "output_type": "display_data"
    }
   ],
   "source": [
    "rf = RandomForestClassifier(n_estimators = 10, max_depth = 5, max_features = 'sqrt', random_state = 0).fit(X_train, y_train)\n",
    "rf_pred = rf.predict(X_test)\n",
    "cm_rf = confusion_matrix(y_test, rf_pred, labels = clf.classes_)\n",
    "disp = ConfusionMatrixDisplay(confusion_matrix = cm_rf, display_labels = labels)\n",
    "disp.plot()\n",
    "print(classification_report(y_test, rf_pred, labels = clf.classes_))"
   ]
  },
  {
   "cell_type": "markdown",
   "id": "3a146e13",
   "metadata": {},
   "source": [
    "# Question 2.c"
   ]
  },
  {
   "cell_type": "code",
   "execution_count": 30,
   "id": "dcf8d79f",
   "metadata": {},
   "outputs": [
    {
     "name": "stdout",
     "output_type": "stream",
     "text": [
      "              precision    recall  f1-score   support\n",
      "\n",
      "           1       0.80      0.97      0.88        72\n",
      "           2       0.50      0.10      0.17        20\n",
      "\n",
      "    accuracy                           0.78        92\n",
      "   macro avg       0.65      0.54      0.52        92\n",
      "weighted avg       0.73      0.78      0.72        92\n",
      "\n"
     ]
    },
    {
     "data": {
      "image/png": "[encoded data removed]",
      "text/plain": [
       "<Figure size 432x288 with 2 Axes>"
      ]
     },
     "metadata": {
      "needs_background": "light"
     },
     "output_type": "display_data"
    }
   ],
   "source": [
    "svm = SVC(random_state = 0, kernel = \"rbf\", gamma = 1).fit(X_train, y_train)\n",
    "svm_pred = svm.predict(X_test)\n",
    "cm_svm = confusion_matrix(y_test, svm_pred, labels = clf.classes_)\n",
    "disp = ConfusionMatrixDisplay(confusion_matrix = cm_svm, display_labels = labels)\n",
    "disp.plot()\n",
    "print(classification_report(y_test, svm_pred, labels = clf.classes_))"
   ]
  },
  {
   "cell_type": "markdown",
   "id": "31308575",
   "metadata": {},
   "source": [
    "# Question 2.d"
   ]
  },
  {
   "cell_type": "code",
   "execution_count": 31,
   "id": "cfd83025",
   "metadata": {},
   "outputs": [
    {
     "name": "stdout",
     "output_type": "stream",
     "text": [
      "              precision    recall  f1-score   support\n",
      "\n",
      "           1       0.81      0.88      0.84        72\n",
      "           2       0.36      0.25      0.29        20\n",
      "\n",
      "    accuracy                           0.74        92\n",
      "   macro avg       0.58      0.56      0.57        92\n",
      "weighted avg       0.71      0.74      0.72        92\n",
      "\n"
     ]
    },
    {
     "data": {
      "image/png": "[encoded data removed]",
      "text/plain": [
       "<Figure size 432x288 with 2 Axes>"
      ]
     },
     "metadata": {
      "needs_background": "light"
     },
     "output_type": "display_data"
    }
   ],
   "source": [
    "nn = MLPClassifier(solver = 'lbfgs', alpha = 0.0001, hidden_layer_sizes = (15,), random_state = 1, activation = \"relu\", learning_rate_init = 0.01).fit(X_train, y_train)\n",
    "\n",
    "nn_pred = nn.predict(X_test)\n",
    "\n",
    "cm_nn = confusion_matrix(y_test, nn_pred, labels = clf.classes_)\n",
    "disp = ConfusionMatrixDisplay(confusion_matrix = cm_nn, display_labels = labels)\n",
    "disp.plot()\n",
    "print(classification_report(y_test, nn_pred, labels = clf.classes_))"
   ]
  },
  {
   "cell_type": "code",
   "execution_count": 32,
   "id": "cbb6b2c0",
   "metadata": {},
   "outputs": [
    {
     "name": "stdout",
     "output_type": "stream",
     "text": [
      "Accuracy for iteration 1 is 0.7727272727272727\n",
      "Accuracy for iteration 2 is 0.6818181818181818\n",
      "Accuracy for iteration 3 is 0.8636363636363636\n",
      "Accuracy for iteration 4 is 0.5714285714285714\n",
      "Accuracy for iteration 5 is 0.7142857142857143\n",
      "Accuracy for iteration 6 is 0.7142857142857143\n",
      "Accuracy for iteration 7 is 0.7619047619047619\n",
      "Accuracy for iteration 8 is 0.7619047619047619\n",
      "Accuracy for iteration 9 is 0.7619047619047619\n",
      "Accuracy for iteration 10 is 0.6190476190476191\n"
     ]
    }
   ],
   "source": [
    "# Use 10 - fold cross validation\n",
    "kf = KFold(n_splits=10)\n",
    "\n",
    "iteration = 1\n",
    "for train_indices, test_indices in kf.split(X_train):\n",
    "    clf.fit(X_train.iloc[train_indices], y_train.iloc[train_indices])\n",
    "    print(\"Accuracy for iteration \"+ str(iteration) + \" is \" + str(clf.score(X_train.iloc[test_indices], y_train.iloc[test_indices])))\n",
    "    iteration += 1"
   ]
  },
  {
   "cell_type": "code",
   "execution_count": 33,
   "id": "d66f2485",
   "metadata": {},
   "outputs": [
    {
     "data": {
      "text/plain": [
       "{'C': 1, 'kernel': 'poly'}"
      ]
     },
     "execution_count": 33,
     "metadata": {},
     "output_type": "execute_result"
    }
   ],
   "source": [
    "# Use GridSearchCV for searching through hyper parameters\n",
    "parameters = {'kernel':('linear', 'rbf', 'poly'), 'C':[1, 10]}\n",
    "\n",
    "svm_grid = GridSearchCV(svm, parameters)\n",
    "svm_grid.fit(X_train, y_train)\n",
    "svm_grid.best_params_"
   ]
  },
  {
   "cell_type": "markdown",
   "id": "b82a764d",
   "metadata": {},
   "source": []
  }
 ],
 "metadata": {
  "kernelspec": {
   "display_name": "Python 3 (ipykernel)",
   "language": "python",
   "name": "python3"
  },
  "language_info": {
   "codemirror_mode": {
    "name": "ipython",
    "version": 3
   },
   "file_extension": ".py",
   "mimetype": "text/x-python",
   "name": "python",
   "nbconvert_exporter": "python",
   "pygments_lexer": "ipython3",
   "version": "3.9.7"
  }
 },
 "nbformat": 4,
 "nbformat_minor": 5
}
